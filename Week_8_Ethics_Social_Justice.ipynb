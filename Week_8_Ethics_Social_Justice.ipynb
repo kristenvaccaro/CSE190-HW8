{
  "nbformat": 4,
  "nbformat_minor": 0,
  "metadata": {
    "kernelspec": {
      "display_name": "Python 3",
      "language": "python",
      "name": "python3"
    },
    "language_info": {
      "codemirror_mode": {
        "name": "ipython",
        "version": 3
      },
      "file_extension": ".py",
      "mimetype": "text/x-python",
      "name": "python",
      "nbconvert_exporter": "python",
      "pygments_lexer": "ipython3",
      "version": "3.6.8"
    },
    "toc": {
      "base_numbering": 1,
      "nav_menu": {},
      "number_sections": false,
      "sideBar": false,
      "skip_h1_title": false,
      "title_cell": "Table of Contents",
      "title_sidebar": "Contents",
      "toc_cell": false,
      "toc_position": {},
      "toc_section_display": false,
      "toc_window_display": false
    },
    "colab": {
      "provenance": []
    }
  },
  "cells": [
    {
      "cell_type": "markdown",
      "metadata": {
        "id": "8HhoaZMxrZXZ"
      },
      "source": [
        "# Ethics & Social Justice\n",
        "\n",
        "In this assignment you will think about how to deal with ethics & social justice issues from a computing perspective.  \n",
        "\n",
        "_Attach a pdf with your sketches. Please include annotations/descriptions for each sketch._"
      ]
    },
    {
      "cell_type": "markdown",
      "metadata": {
        "id": "nviFxr3-rZXj"
      },
      "source": [
        "## Part 1: Evaluate Ethics Statements\n",
        "\n",
        "### Question 1.1 Select research papers [5pt]\n",
        "Select at least 5 papers from a recent machine learning conference. At least 3 must come from ACL, but you may choose the remaining papers from different conferences from this list if you prefer: NeurIPS, ICML, CVPR, ICCV, EMNLP, NAACL, AISTATS.\n",
        "\n",
        "To search, try the phrase \"`[CONFERENCE ABBREVIATION] 2024 proceedings`\" or \"`[CONFERENCE ABBREVIATION] 2024 accepted papers`\", for example \"`ACL 2024 proceedings`\".\n",
        "\n",
        "[Association of Computational Linguistics (ACL)](https://2024.aclweb.org/program/main_conference_papers/)   \n",
        "\n",
        "List and provide links to the papers below. If the pdf is not directly linked from the conference website, searching the title on Google will find a link either on Arxiv or a digital library (ACM, IEEE, etc.)\n",
        "\n",
        "\n"
      ]
    },
    {
      "cell_type": "markdown",
      "source": [
        "[*Write your answers here*]\n",
        "\n",
        "1.\n",
        "2.\n",
        "3.\n",
        "4.\n",
        "5."
      ],
      "metadata": {
        "id": "-3Fal-yJUipT"
      }
    },
    {
      "cell_type": "markdown",
      "source": [
        "### Question 1.2 Identify ethics discussion [10pt]\n",
        "\n",
        "Skim the paper and identify whether the authors discuss ethical implications of their work. Copy any relevant text, then summarize the key aspects they consider.\n"
      ],
      "metadata": {
        "id": "91VIQXJwUp-O"
      }
    },
    {
      "cell_type": "markdown",
      "source": [
        "**Paper 1**\n",
        "\n",
        "*Original Text*:\n",
        "\n",
        "*Your Summary*:"
      ],
      "metadata": {
        "id": "kQQ0oF5LXRbE"
      }
    },
    {
      "cell_type": "markdown",
      "source": [
        "**Paper 2**\n",
        "\n",
        "*Original Text*:\n",
        "\n",
        "*Your Summary*:"
      ],
      "metadata": {
        "id": "yfca1fxlXhjM"
      }
    },
    {
      "cell_type": "markdown",
      "source": [
        "**Paper 3**\n",
        "\n",
        "*Original Text*:\n",
        "\n",
        "*Your Summary*:"
      ],
      "metadata": {
        "id": "hZZNIoKdXh1d"
      }
    },
    {
      "cell_type": "markdown",
      "source": [
        "**Paper 4**\n",
        "\n",
        "*Original Text*:\n",
        "\n",
        "*Your Summary*:"
      ],
      "metadata": {
        "id": "W-4C9bWkXh8v"
      }
    },
    {
      "cell_type": "markdown",
      "source": [
        "**Paper 5**\n",
        "\n",
        "*Original Text*:\n",
        "\n",
        "*Your Summary*:"
      ],
      "metadata": {
        "id": "UuznzYErXiTE"
      }
    },
    {
      "cell_type": "markdown",
      "source": [
        "### Question 1.3 Worst case scenario [5pt]\n",
        "\n",
        "Select one of the articles. Write a brief version of a possible worst-case scenario of the new model/dataset/other contribution of the paper being misused."
      ],
      "metadata": {
        "id": "BQQfm9oYYQYT"
      }
    },
    {
      "cell_type": "markdown",
      "source": [
        "*Write your response here*"
      ],
      "metadata": {
        "id": "7CKXe909adrA"
      }
    },
    {
      "cell_type": "markdown",
      "source": [
        "### Question 1.4 Evaluate ethics discussion [5pt]\n",
        "\n",
        "Overall, do you find the evaluation the authors provide convincing? Are there other ethical issues that they could have included?\n",
        "\n"
      ],
      "metadata": {
        "id": "Bevp8QsjUnUw"
      }
    },
    {
      "cell_type": "markdown",
      "source": [
        "\n",
        "*Write your response here*"
      ],
      "metadata": {
        "id": "mjirWrCHYCca"
      }
    },
    {
      "cell_type": "markdown",
      "source": [
        "\n",
        "## Part 2: Brainstorm Solutions\n",
        "\n",
        "**Either for the worst-case scenario you described in Question 1.3 or another negative impact of an AI system, sketch and describe two solutions that could help address the issue from the you selected. Each design should use a different approach to tackle the same issue.**\n",
        "\n",
        "*Each sketch is worth five points.*\n",
        "\n",
        "To receive full credit:\n",
        "\n",
        "1. Indicate the target audience or target user for your system.\n",
        "2. Clearly state your design goal(s).\n",
        "3. Indicate how your design addresses the ethics or social justice issue you selected (and relates to the news article you selected).\n",
        "4. Label your sketch.\n",
        "\n",
        "*If you are having trouble thinking of a solution, you could try using the four roles for computing laid out in Abebe et al.*\n"
      ],
      "metadata": {
        "id": "ev9I6CpPYGa7"
      }
    }
  ]
}
